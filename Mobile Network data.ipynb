{
 "cells": [
  {
   "cell_type": "code",
   "execution_count": 138,
   "id": "8e8b5ecb",
   "metadata": {},
   "outputs": [],
   "source": [
    "import pandas as pd\n",
    "import scipy.stats as sts\n",
    "import numpy as np\n",
    "import pandas as pd\n",
    "import seaborn as sns\n",
    "import matplotlib.pyplot as plt\n",
    "df1=pd.read_csv(\"C:\\\\Users\\\\mahav\\\\clonedRepositories\\\\Datasets\\\\phone_data.csv\")"
   ]
  },
  {
   "cell_type": "code",
   "execution_count": 139,
   "id": "b7d007f7",
   "metadata": {},
   "outputs": [],
   "source": [
    "import warnings\n",
    "warnings.filterwarnings('ignore')"
   ]
  },
  {
   "cell_type": "markdown",
   "id": "f5179b4f",
   "metadata": {},
   "source": [
    "2.Perform the following statistical analysis on the mobile network dataset given. The given data set contains information about the internet, calls, and messages of various network. Data Cleaning and basic EDA process needs to be performed.\n",
    "a) With 95% & 99% Confidence Interval, find the range estimate of average duration calls made by the entire network. Which of the Intervals are wider? Interpret the results.\n",
    "\n",
    "b) Perform statistical analysis to check whether the networks are equally distributed in the dataset. c) Plot the distribution of duration with respect to each network in the same graph and interpret the results from the graph.\n",
    "\n",
    "d) Perform statistical tests to identify the relation between item and duration. Detailed explanation of relation between the classes is required.\n",
    "\n",
    "e) Perform statistical tests to identify the relation between network and network_type.\n",
    "\n",
    "Note:\n",
    "\n",
    "1) Perform all the Statistical analysis with 5% (Significance level).\n",
    "\n",
    "2) Perform the test of normality and test of variance in the appropriate places.\n",
    "\n",
    "df1 = pd.read_csv('phone.csv')"
   ]
  },
  {
   "cell_type": "code",
   "execution_count": 116,
   "id": "d0687817",
   "metadata": {},
   "outputs": [
    {
     "data": {
      "text/html": [
       "<div>\n",
       "<style scoped>\n",
       "    .dataframe tbody tr th:only-of-type {\n",
       "        vertical-align: middle;\n",
       "    }\n",
       "\n",
       "    .dataframe tbody tr th {\n",
       "        vertical-align: top;\n",
       "    }\n",
       "\n",
       "    .dataframe thead th {\n",
       "        text-align: right;\n",
       "    }\n",
       "</style>\n",
       "<table border=\"1\" class=\"dataframe\">\n",
       "  <thead>\n",
       "    <tr style=\"text-align: right;\">\n",
       "      <th></th>\n",
       "      <th>index</th>\n",
       "      <th>date</th>\n",
       "      <th>duration</th>\n",
       "      <th>item</th>\n",
       "      <th>month</th>\n",
       "      <th>network</th>\n",
       "      <th>network_type</th>\n",
       "    </tr>\n",
       "  </thead>\n",
       "  <tbody>\n",
       "    <tr>\n",
       "      <th>0</th>\n",
       "      <td>0</td>\n",
       "      <td>15/10/14 06:58</td>\n",
       "      <td>34.429</td>\n",
       "      <td>data</td>\n",
       "      <td>2014-11</td>\n",
       "      <td>data</td>\n",
       "      <td>data</td>\n",
       "    </tr>\n",
       "    <tr>\n",
       "      <th>1</th>\n",
       "      <td>1</td>\n",
       "      <td>15/10/14 06:58</td>\n",
       "      <td>13.000</td>\n",
       "      <td>call</td>\n",
       "      <td>2014-11</td>\n",
       "      <td>Vodafone</td>\n",
       "      <td>mobile</td>\n",
       "    </tr>\n",
       "    <tr>\n",
       "      <th>2</th>\n",
       "      <td>2</td>\n",
       "      <td>15/10/14 14:46</td>\n",
       "      <td>23.000</td>\n",
       "      <td>call</td>\n",
       "      <td>2014-11</td>\n",
       "      <td>Meteor</td>\n",
       "      <td>mobile</td>\n",
       "    </tr>\n",
       "    <tr>\n",
       "      <th>3</th>\n",
       "      <td>3</td>\n",
       "      <td>15/10/14 14:48</td>\n",
       "      <td>4.000</td>\n",
       "      <td>call</td>\n",
       "      <td>2014-11</td>\n",
       "      <td>Tesco</td>\n",
       "      <td>mobile</td>\n",
       "    </tr>\n",
       "    <tr>\n",
       "      <th>4</th>\n",
       "      <td>4</td>\n",
       "      <td>15/10/14 17:27</td>\n",
       "      <td>4.000</td>\n",
       "      <td>call</td>\n",
       "      <td>2014-11</td>\n",
       "      <td>Tesco</td>\n",
       "      <td>mobile</td>\n",
       "    </tr>\n",
       "    <tr>\n",
       "      <th>...</th>\n",
       "      <td>...</td>\n",
       "      <td>...</td>\n",
       "      <td>...</td>\n",
       "      <td>...</td>\n",
       "      <td>...</td>\n",
       "      <td>...</td>\n",
       "      <td>...</td>\n",
       "    </tr>\n",
       "    <tr>\n",
       "      <th>825</th>\n",
       "      <td>825</td>\n",
       "      <td>13/03/15 00:38</td>\n",
       "      <td>1.000</td>\n",
       "      <td>sms</td>\n",
       "      <td>2015-03</td>\n",
       "      <td>world</td>\n",
       "      <td>world</td>\n",
       "    </tr>\n",
       "    <tr>\n",
       "      <th>826</th>\n",
       "      <td>826</td>\n",
       "      <td>13/03/15 00:39</td>\n",
       "      <td>1.000</td>\n",
       "      <td>sms</td>\n",
       "      <td>2015-03</td>\n",
       "      <td>Vodafone</td>\n",
       "      <td>mobile</td>\n",
       "    </tr>\n",
       "    <tr>\n",
       "      <th>827</th>\n",
       "      <td>827</td>\n",
       "      <td>13/03/15 06:58</td>\n",
       "      <td>34.429</td>\n",
       "      <td>data</td>\n",
       "      <td>2015-03</td>\n",
       "      <td>data</td>\n",
       "      <td>data</td>\n",
       "    </tr>\n",
       "    <tr>\n",
       "      <th>828</th>\n",
       "      <td>828</td>\n",
       "      <td>14/03/15 00:13</td>\n",
       "      <td>1.000</td>\n",
       "      <td>sms</td>\n",
       "      <td>2015-03</td>\n",
       "      <td>world</td>\n",
       "      <td>world</td>\n",
       "    </tr>\n",
       "    <tr>\n",
       "      <th>829</th>\n",
       "      <td>829</td>\n",
       "      <td>14/03/15 00:16</td>\n",
       "      <td>1.000</td>\n",
       "      <td>sms</td>\n",
       "      <td>2015-03</td>\n",
       "      <td>world</td>\n",
       "      <td>world</td>\n",
       "    </tr>\n",
       "  </tbody>\n",
       "</table>\n",
       "<p>830 rows × 7 columns</p>\n",
       "</div>"
      ],
      "text/plain": [
       "     index            date  duration  item    month   network network_type\n",
       "0        0  15/10/14 06:58    34.429  data  2014-11      data         data\n",
       "1        1  15/10/14 06:58    13.000  call  2014-11  Vodafone       mobile\n",
       "2        2  15/10/14 14:46    23.000  call  2014-11    Meteor       mobile\n",
       "3        3  15/10/14 14:48     4.000  call  2014-11     Tesco       mobile\n",
       "4        4  15/10/14 17:27     4.000  call  2014-11     Tesco       mobile\n",
       "..     ...             ...       ...   ...      ...       ...          ...\n",
       "825    825  13/03/15 00:38     1.000   sms  2015-03     world        world\n",
       "826    826  13/03/15 00:39     1.000   sms  2015-03  Vodafone       mobile\n",
       "827    827  13/03/15 06:58    34.429  data  2015-03      data         data\n",
       "828    828  14/03/15 00:13     1.000   sms  2015-03     world        world\n",
       "829    829  14/03/15 00:16     1.000   sms  2015-03     world        world\n",
       "\n",
       "[830 rows x 7 columns]"
      ]
     },
     "execution_count": 116,
     "metadata": {},
     "output_type": "execute_result"
    }
   ],
   "source": [
    "df1"
   ]
  },
  {
   "cell_type": "code",
   "execution_count": 117,
   "id": "61e30a44",
   "metadata": {},
   "outputs": [
    {
     "data": {
      "text/html": [
       "<div>\n",
       "<style scoped>\n",
       "    .dataframe tbody tr th:only-of-type {\n",
       "        vertical-align: middle;\n",
       "    }\n",
       "\n",
       "    .dataframe tbody tr th {\n",
       "        vertical-align: top;\n",
       "    }\n",
       "\n",
       "    .dataframe thead th {\n",
       "        text-align: right;\n",
       "    }\n",
       "</style>\n",
       "<table border=\"1\" class=\"dataframe\">\n",
       "  <thead>\n",
       "    <tr style=\"text-align: right;\">\n",
       "      <th></th>\n",
       "      <th>index</th>\n",
       "      <th>date</th>\n",
       "      <th>duration</th>\n",
       "      <th>item</th>\n",
       "      <th>month</th>\n",
       "      <th>network</th>\n",
       "      <th>network_type</th>\n",
       "    </tr>\n",
       "  </thead>\n",
       "  <tbody>\n",
       "    <tr>\n",
       "      <th>0</th>\n",
       "      <td>0</td>\n",
       "      <td>15/10/14 06:58</td>\n",
       "      <td>34.429</td>\n",
       "      <td>data</td>\n",
       "      <td>2014-11</td>\n",
       "      <td>data</td>\n",
       "      <td>data</td>\n",
       "    </tr>\n",
       "    <tr>\n",
       "      <th>1</th>\n",
       "      <td>1</td>\n",
       "      <td>15/10/14 06:58</td>\n",
       "      <td>13.000</td>\n",
       "      <td>call</td>\n",
       "      <td>2014-11</td>\n",
       "      <td>Vodafone</td>\n",
       "      <td>mobile</td>\n",
       "    </tr>\n",
       "    <tr>\n",
       "      <th>2</th>\n",
       "      <td>2</td>\n",
       "      <td>15/10/14 14:46</td>\n",
       "      <td>23.000</td>\n",
       "      <td>call</td>\n",
       "      <td>2014-11</td>\n",
       "      <td>Meteor</td>\n",
       "      <td>mobile</td>\n",
       "    </tr>\n",
       "    <tr>\n",
       "      <th>3</th>\n",
       "      <td>3</td>\n",
       "      <td>15/10/14 14:48</td>\n",
       "      <td>4.000</td>\n",
       "      <td>call</td>\n",
       "      <td>2014-11</td>\n",
       "      <td>Tesco</td>\n",
       "      <td>mobile</td>\n",
       "    </tr>\n",
       "    <tr>\n",
       "      <th>4</th>\n",
       "      <td>4</td>\n",
       "      <td>15/10/14 17:27</td>\n",
       "      <td>4.000</td>\n",
       "      <td>call</td>\n",
       "      <td>2014-11</td>\n",
       "      <td>Tesco</td>\n",
       "      <td>mobile</td>\n",
       "    </tr>\n",
       "  </tbody>\n",
       "</table>\n",
       "</div>"
      ],
      "text/plain": [
       "   index            date  duration  item    month   network network_type\n",
       "0      0  15/10/14 06:58    34.429  data  2014-11      data         data\n",
       "1      1  15/10/14 06:58    13.000  call  2014-11  Vodafone       mobile\n",
       "2      2  15/10/14 14:46    23.000  call  2014-11    Meteor       mobile\n",
       "3      3  15/10/14 14:48     4.000  call  2014-11     Tesco       mobile\n",
       "4      4  15/10/14 17:27     4.000  call  2014-11     Tesco       mobile"
      ]
     },
     "execution_count": 117,
     "metadata": {},
     "output_type": "execute_result"
    }
   ],
   "source": [
    "df1.head()"
   ]
  },
  {
   "cell_type": "code",
   "execution_count": 118,
   "id": "415a6dfd",
   "metadata": {},
   "outputs": [
    {
     "data": {
      "text/plain": [
       "index             int64\n",
       "date             object\n",
       "duration        float64\n",
       "item             object\n",
       "month            object\n",
       "network          object\n",
       "network_type     object\n",
       "dtype: object"
      ]
     },
     "execution_count": 118,
     "metadata": {},
     "output_type": "execute_result"
    }
   ],
   "source": [
    "df1.dtypes"
   ]
  },
  {
   "cell_type": "code",
   "execution_count": 119,
   "id": "640ac7e7",
   "metadata": {},
   "outputs": [],
   "source": [
    "df1['date'] = df1['date'].astype('datetime64')\n"
   ]
  },
  {
   "cell_type": "code",
   "execution_count": 120,
   "id": "7a5ec078",
   "metadata": {},
   "outputs": [],
   "source": [
    "x = pd.DatetimeIndex(df1['date']).month"
   ]
  },
  {
   "cell_type": "code",
   "execution_count": 121,
   "id": "8fc2e655",
   "metadata": {},
   "outputs": [
    {
     "data": {
      "text/plain": [
       "Int64Index([10, 10, 10, 10, 10, 10, 10, 10, 10, 10,\n",
       "            ...\n",
       "             8,  9, 10, 11, 12,  3,  3,  3,  3,  3],\n",
       "           dtype='int64', name='date', length=830)"
      ]
     },
     "execution_count": 121,
     "metadata": {},
     "output_type": "execute_result"
    }
   ],
   "source": [
    "df1['month'] = x\n",
    "x"
   ]
  },
  {
   "cell_type": "code",
   "execution_count": 122,
   "id": "3aa9115a",
   "metadata": {},
   "outputs": [
    {
     "data": {
      "text/plain": [
       "index                    int64\n",
       "date            datetime64[ns]\n",
       "duration               float64\n",
       "item                    object\n",
       "month                    int64\n",
       "network                 object\n",
       "network_type            object\n",
       "dtype: object"
      ]
     },
     "execution_count": 122,
     "metadata": {},
     "output_type": "execute_result"
    }
   ],
   "source": [
    "df1.dtypes"
   ]
  },
  {
   "cell_type": "code",
   "execution_count": 123,
   "id": "92815a85",
   "metadata": {},
   "outputs": [
    {
     "data": {
      "text/plain": [
       "index           0\n",
       "date            0\n",
       "duration        0\n",
       "item            0\n",
       "month           0\n",
       "network         0\n",
       "network_type    0\n",
       "dtype: int64"
      ]
     },
     "execution_count": 123,
     "metadata": {},
     "output_type": "execute_result"
    }
   ],
   "source": [
    "df1.isnull().sum() #no null data"
   ]
  },
  {
   "cell_type": "markdown",
   "id": "4be8b9c9",
   "metadata": {},
   "source": [
    "a) With 95% & 99% Confidence Interval, find the range estimate of average duration calls made by the entire network. Which of the Intervals are wider? Interpret the results."
   ]
  },
  {
   "cell_type": "code",
   "execution_count": 124,
   "id": "6b030b20",
   "metadata": {},
   "outputs": [
    {
     "data": {
      "text/plain": [
       "(87.58930566721992, 148.01876662193675)"
      ]
     },
     "execution_count": 124,
     "metadata": {},
     "output_type": "execute_result"
    }
   ],
   "source": [
    "m = df1.duration.mean()\n",
    "s = df1.duration.std()\n",
    "n = len(df1)\n",
    "sts.norm.interval(0.95, loc = m, scale = s/np.sqrt(n))"
   ]
  },
  {
   "cell_type": "code",
   "execution_count": 125,
   "id": "ee120d80",
   "metadata": {},
   "outputs": [
    {
     "data": {
      "text/plain": [
       "(87.58930566721992, 148.01876662193675)"
      ]
     },
     "execution_count": 125,
     "metadata": {},
     "output_type": "execute_result"
    }
   ],
   "source": [
    "sts.norm.interval(0.95, loc = m, scale = s/np.sqrt(n))"
   ]
  },
  {
   "cell_type": "code",
   "execution_count": null,
   "id": "9e081ffd",
   "metadata": {},
   "outputs": [],
   "source": []
  },
  {
   "cell_type": "code",
   "execution_count": 126,
   "id": "aab80dd0",
   "metadata": {},
   "outputs": [
    {
     "data": {
      "text/plain": [
       "(78.09514925874313, 157.51292303041353)"
      ]
     },
     "execution_count": 126,
     "metadata": {},
     "output_type": "execute_result"
    }
   ],
   "source": [
    "sts.norm.interval(0.99, loc = m, scale = s/np.sqrt(n))"
   ]
  },
  {
   "cell_type": "markdown",
   "id": "30cc0b4f",
   "metadata": {},
   "source": [
    "it can be interpreted that the example 2 confident interval is wider than the example 1 confident interval with the 95% of the population, which means that there are 99% chances the confidence interval of [78 ,157 ] contains the true population mean"
   ]
  },
  {
   "cell_type": "markdown",
   "id": "8ace5e26",
   "metadata": {},
   "source": [
    "b) Perform statistical analysis to check whether the networks are equally distributed in the dataset. "
   ]
  },
  {
   "cell_type": "code",
   "execution_count": 127,
   "id": "6da87fa4",
   "metadata": {},
   "outputs": [
    {
     "data": {
      "text/plain": [
       "array(['data', 'Vodafone', 'Meteor', 'Tesco', 'Three', 'voicemail',\n",
       "       'landline', 'special', 'world'], dtype=object)"
      ]
     },
     "execution_count": 127,
     "metadata": {},
     "output_type": "execute_result"
    }
   ],
   "source": [
    "df1.network.unique()"
   ]
  },
  {
   "cell_type": "code",
   "execution_count": 128,
   "id": "b50b2f55",
   "metadata": {},
   "outputs": [
    {
     "data": {
      "text/plain": [
       "Three        215\n",
       "Vodafone     215\n",
       "data         150\n",
       "Meteor        87\n",
       "Tesco         84\n",
       "landline      42\n",
       "voicemail     27\n",
       "world          7\n",
       "special        3\n",
       "Name: network, dtype: int64"
      ]
     },
     "execution_count": 128,
     "metadata": {},
     "output_type": "execute_result"
    }
   ],
   "source": [
    "df2=df1.network.value_counts()\n",
    "df2"
   ]
  },
  {
   "cell_type": "code",
   "execution_count": 129,
   "id": "ed04cc52",
   "metadata": {},
   "outputs": [
    {
     "data": {
      "text/plain": [
       "118"
      ]
     },
     "execution_count": 129,
     "metadata": {},
     "output_type": "execute_result"
    }
   ],
   "source": [
    "len(df1)//7"
   ]
  },
  {
   "cell_type": "code",
   "execution_count": 130,
   "id": "d946bc1f",
   "metadata": {},
   "outputs": [
    {
     "data": {
      "text/plain": [
       "Power_divergenceResult(statistic=308.73352165725055, pvalue=1.099187551267738e-63)"
      ]
     },
     "execution_count": 130,
     "metadata": {},
     "output_type": "execute_result"
    }
   ],
   "source": [
    "# H0 : networks are equally distributed in the dataset.\n",
    "# H1 : networks are not equally distributed in the dataset.\n",
    "\n",
    "observed=[215,215,150,87,84,42,27]\n",
    "expected=[117,117,117,117,117,117,118]\n",
    "\n",
    "sts.chisquare(f_obs = observed, f_exp = expected)"
   ]
  },
  {
   "cell_type": "markdown",
   "id": "e7888934",
   "metadata": {},
   "source": [
    "c) Plot the distribution of duration with respect to each network in the same graph and interpret the results from the graph."
   ]
  },
  {
   "cell_type": "code",
   "execution_count": 131,
   "id": "d620eb8c",
   "metadata": {},
   "outputs": [
    {
     "data": {
      "text/plain": [
       "Three        215\n",
       "Vodafone     215\n",
       "data         150\n",
       "Meteor        87\n",
       "Tesco         84\n",
       "landline      42\n",
       "voicemail     27\n",
       "world          7\n",
       "special        3\n",
       "Name: network, dtype: int64"
      ]
     },
     "execution_count": 131,
     "metadata": {},
     "output_type": "execute_result"
    }
   ],
   "source": [
    "df1.network.value_counts()"
   ]
  },
  {
   "cell_type": "code",
   "execution_count": 132,
   "id": "89d784ed",
   "metadata": {},
   "outputs": [
    {
     "data": {
      "text/plain": [
       "Index(['index', 'date', 'duration', 'item', 'month', 'network',\n",
       "       'network_type'],\n",
       "      dtype='object')"
      ]
     },
     "execution_count": 132,
     "metadata": {},
     "output_type": "execute_result"
    }
   ],
   "source": [
    "df1.columns"
   ]
  },
  {
   "cell_type": "code",
   "execution_count": 133,
   "id": "6da122bd",
   "metadata": {},
   "outputs": [],
   "source": [
    "d1=df1[df1['network']=='Vodafone']['duration']\n",
    "d2=df1[df1['network']=='Three']['duration']\n",
    "d3=df1[df1['network']=='data']['duration']\n",
    "d4=df1[df1['network']=='Meteor']['duration']\n",
    "d5=df1[df1['network']=='Tesco']['duration']\n",
    "d6=df1[df1['network']=='landline']['duration']\n",
    "d7=df1[df1['network']=='Voicemail']['duration']\n"
   ]
  },
  {
   "cell_type": "code",
   "execution_count": 134,
   "id": "f292d00d",
   "metadata": {},
   "outputs": [
    {
     "data": {
      "image/png": "[encoded data removed]",
      "text/plain": [
       "<Figure size 432x288 with 1 Axes>"
      ]
     },
     "metadata": {
      "needs_background": "light"
     },
     "output_type": "display_data"
    }
   ],
   "source": [
    "sns.kdeplot(d1, label = 'Vodafone')\n",
    "sns.kdeplot(d2, label = 'Three')\n",
    "sns.kdeplot(d3, label = 'data')\n",
    "sns.kdeplot(d4, label = 'Meteor')\n",
    "sns.kdeplot(d5, label = 'Tesco')\n",
    "sns.kdeplot(d6, label = 'landline')\n",
    "sns.kdeplot(d7, label = 'Voicemail')\n",
    "plt.legend()\n",
    "plt.show()"
   ]
  },
  {
   "cell_type": "markdown",
   "id": "31c6a4a5",
   "metadata": {},
   "source": [
    "d) Perform statistical tests to identify the relation between item and duration. Detailed explanation of relation between the classes is required."
   ]
  },
  {
   "cell_type": "code",
   "execution_count": 135,
   "id": "62c8dd17",
   "metadata": {},
   "outputs": [
    {
     "data": {
      "text/plain": [
       "array(['data', 'call', 'sms'], dtype=object)"
      ]
     },
     "execution_count": 135,
     "metadata": {},
     "output_type": "execute_result"
    }
   ],
   "source": [
    "# H0 : there is  relation between item and duration.\n",
    "# H1 : there is no relation between item and duration.\n",
    "\n",
    "df1.item.unique()"
   ]
  },
  {
   "cell_type": "code",
   "execution_count": 146,
   "id": "53976152",
   "metadata": {},
   "outputs": [],
   "source": [
    "d1=df1[df1['item']=='data']['duration']\n",
    "d2=df1[df1['item']=='call']['duration']\n",
    "d3=df1[df1['item']=='sms']['duration']"
   ]
  },
  {
   "cell_type": "code",
   "execution_count": 152,
   "id": "55515f3b",
   "metadata": {},
   "outputs": [
    {
     "data": {
      "text/plain": [
       "F_onewayResult(statistic=28.738991192189417, pvalue=8.579121317902198e-13)"
      ]
     },
     "execution_count": 152,
     "metadata": {},
     "output_type": "execute_result"
    }
   ],
   "source": [
    "f_oneway(d1,d2,d3)"
   ]
  },
  {
   "cell_type": "markdown",
   "id": "cc028a10",
   "metadata": {},
   "source": [
    "p values less than  aplha, so reject  H0 So we can concludecthere is  relation between item and duration.\n",
    "\n"
   ]
  },
  {
   "cell_type": "code",
   "execution_count": 154,
   "id": "d8d7409b",
   "metadata": {},
   "outputs": [],
   "source": [
    "from scipy.stats import chi2_contingency\n",
    " "
   ]
  },
  {
   "cell_type": "markdown",
   "id": "0ab5b325",
   "metadata": {},
   "source": [
    "e) Perform statistical tests to identify the relation between network and network_type.\n",
    "H0: network and network_type are independent.\n",
    "H1 : network and network_type are not independent."
   ]
  },
  {
   "cell_type": "code",
   "execution_count": 155,
   "id": "b7ac7bb2",
   "metadata": {},
   "outputs": [
    {
     "data": {
      "text/plain": [
       "(4150.0,\n",
       " 0.0,\n",
       " 40,\n",
       " array([[1.57228916e+01, 4.40240964e+00, 6.29963855e+01, 3.14457831e-01,\n",
       "         2.83012048e+00, 7.33734940e-01],\n",
       "        [1.51807229e+01, 4.25060241e+00, 6.08240964e+01, 3.03614458e-01,\n",
       "         2.73253012e+00, 7.08433735e-01],\n",
       "        [3.88554217e+01, 1.08795181e+01, 1.55680723e+02, 7.77108434e-01,\n",
       "         6.99397590e+00, 1.81325301e+00],\n",
       "        [3.88554217e+01, 1.08795181e+01, 1.55680723e+02, 7.77108434e-01,\n",
       "         6.99397590e+00, 1.81325301e+00],\n",
       "        [2.71084337e+01, 7.59036145e+00, 1.08614458e+02, 5.42168675e-01,\n",
       "         4.87951807e+00, 1.26506024e+00],\n",
       "        [7.59036145e+00, 2.12530120e+00, 3.04120482e+01, 1.51807229e-01,\n",
       "         1.36626506e+00, 3.54216867e-01],\n",
       "        [5.42168675e-01, 1.51807229e-01, 2.17228916e+00, 1.08433735e-02,\n",
       "         9.75903614e-02, 2.53012048e-02],\n",
       "        [4.87951807e+00, 1.36626506e+00, 1.95506024e+01, 9.75903614e-02,\n",
       "         8.78313253e-01, 2.27710843e-01],\n",
       "        [1.26506024e+00, 3.54216867e-01, 5.06867470e+00, 2.53012048e-02,\n",
       "         2.27710843e-01, 5.90361446e-02]]))"
      ]
     },
     "execution_count": 155,
     "metadata": {},
     "output_type": "execute_result"
    }
   ],
   "source": [
    "c=pd.crosstab(df1['network'],df1['network_type'])\n",
    "chi2_contingency(c)"
   ]
  },
  {
   "cell_type": "code",
   "execution_count": null,
   "id": "a545ff21",
   "metadata": {},
   "outputs": [],
   "source": []
  }
 ],
 "metadata": {
  "kernelspec": {
   "display_name": "Python 3",
   "language": "python",
   "name": "python3"
  },
  "language_info": {
   "codemirror_mode": {
    "name": "ipython",
    "version": 3
   },
   "file_extension": ".py",
   "mimetype": "text/x-python",
   "name": "python",
   "nbconvert_exporter": "python",
   "pygments_lexer": "ipython3",
   "version": "3.6.13"
  }
 },
 "nbformat": 4,
 "nbformat_minor": 5
}
